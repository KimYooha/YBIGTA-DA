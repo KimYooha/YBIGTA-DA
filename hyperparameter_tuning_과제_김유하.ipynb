{
 "cells": [
  {
   "cell_type": "markdown",
   "metadata": {
    "id": "gLQCzvw0JYlf"
   },
   "source": [
    "# Hyperparameter Tuning 과제\n",
    "\n",
    "- Manual Search\n",
    "- Random Search (Grid Search 참고)\n",
    "- Bayesian Optimization using HyperOpt\n",
    "<br>연습해보기!"
   ]
  },
  {
   "cell_type": "code",
   "execution_count": 1,
   "metadata": {
    "ExecuteTime": {
     "end_time": "2021-09-24T20:46:43.988763Z",
     "start_time": "2021-09-24T20:46:43.952056Z"
    },
    "id": "1sDnWUqtJYlg"
   },
   "outputs": [],
   "source": [
    "from sklearn.model_selection import train_test_split\n",
    "from sklearn.linear_model import LogisticRegression\n",
    "from sklearn.metrics import confusion_matrix, accuracy_score, classification_report\n",
    "from sklearn.datasets import load_iris\n",
    "import warnings\n",
    "warnings.filterwarnings('ignore')\n",
    "import time\n",
    "from functools import partial"
   ]
  },
  {
   "cell_type": "code",
   "execution_count": 2,
   "metadata": {
    "ExecuteTime": {
     "end_time": "2021-09-24T20:46:44.961821Z",
     "start_time": "2021-09-24T20:46:44.943070Z"
    },
    "id": "rA3eO5blJYlr"
   },
   "outputs": [],
   "source": [
    "iris = load_iris()\n",
    "\n",
    "X = iris.data\n",
    "y = iris.target"
   ]
  },
  {
   "cell_type": "code",
   "execution_count": 3,
   "metadata": {
    "ExecuteTime": {
     "end_time": "2021-09-24T20:58:53.910634Z",
     "start_time": "2021-09-24T20:58:53.859317Z"
    },
    "id": "aG9UBbrCcmfI"
   },
   "outputs": [],
   "source": [
    "X_train, X_test, y_train, y_test = train_test_split(X, y, random_state=23)"
   ]
  },
  {
   "cell_type": "markdown",
   "metadata": {
    "id": "PLKaDCe9cmfK"
   },
   "source": [
    "## 1. Manual Search\n",
    "사이킷런 Logistic Regresstion https://scikit-learn.org/stable/modules/generated/sklearn.linear_model.LogisticRegression.html?highlight=logistic%20regression#sklearn.linear_model.LogisticRegression"
   ]
  },
  {
   "cell_type": "code",
   "execution_count": 4,
   "metadata": {
    "colab": {
     "base_uri": "https://localhost:8080/"
    },
    "id": "9rvwGNbXhCWQ",
    "outputId": "933a382e-fa23-43ff-f674-9188fb727c6a"
   },
   "outputs": [
    {
     "name": "stdout",
     "output_type": "stream",
     "text": [
      "0.9821428571428571\n",
      "              precision    recall  f1-score   support\n",
      "\n",
      "           0       1.00      1.00      1.00        34\n",
      "           1       1.00      0.95      0.97        39\n",
      "           2       0.95      1.00      0.97        39\n",
      "\n",
      "    accuracy                           0.98       112\n",
      "   macro avg       0.98      0.98      0.98       112\n",
      "weighted avg       0.98      0.98      0.98       112\n",
      "\n"
     ]
    }
   ],
   "source": [
    "manual = LogisticRegression(\n",
    "   penalty='l2', dual=False, tol=0.0001 , class_weight=None, \n",
    "    C=2, fit_intercept=True, intercept_scaling=1, \n",
    "    random_state=0, max_iter=100)\n",
    "manual.fit(X_train,y_train)\n",
    "# 정확도까지 계산해주세요\n",
    "y_pred = manual.predict(X_train)\n",
    "\n",
    "print(accuracy_score(y_train, y_pred))\n",
    "print(classification_report(y_train, y_pred))"
   ]
  },
  {
   "cell_type": "markdown",
   "metadata": {
    "id": "FJuP0s1VJYl2"
   },
   "source": [
    "## 2. Grid Search"
   ]
  },
  {
   "cell_type": "code",
   "execution_count": 5,
   "metadata": {
    "colab": {
     "base_uri": "https://localhost:8080/"
    },
    "id": "HMmlfWQ5ikLP",
    "outputId": "68b1be06-99b3-4606-b20e-c5b78e21a551"
   },
   "outputs": [
    {
     "name": "stdout",
     "output_type": "stream",
     "text": [
      "test set score : 1.0\n",
      "best parameters: {'C': 1, 'max_iter': 100}\n",
      "best CV score: 0.9553359683794467\n",
      "time : 3.3071553707122803\n"
     ]
    }
   ],
   "source": [
    "from sklearn.model_selection import GridSearchCV\n",
    "\n",
    "# 파라미터 후보 설정\n",
    "## C: 표준화 정도\n",
    "## max_iter: 최대 반복 횟수\n",
    "param_grid = {'C': [0.001, 0.01, 0.1, 1, 10, 100],\n",
    "              'max_iter' : [100, 500, 1000, 1500, 2000]}\n",
    "\n",
    "# 그리드 서치 호출\n",
    "grid_search = GridSearchCV(LogisticRegression(), param_grid, cv=5, return_train_score=True)   \n",
    "\n",
    "# 데이터 분할\n",
    "X_train, X_test, y_train, y_test = train_test_split(X, y, random_state=23)\n",
    "\n",
    "start = time.time()\n",
    "# 모델 적합\n",
    "grid_search.fit(X_train, y_train)\n",
    "\n",
    "# 모델 평가\n",
    "print(f\"test set score : {grid_search.score(X_test, y_test)}\")\n",
    "\n",
    "print(f\"best parameters: {grid_search.best_params_}\")\n",
    "print(f\"best CV score: {grid_search.best_score_}\")\n",
    "\n",
    "# 소요 시간 측정\n",
    "print(\"time :\", time.time() - start)"
   ]
  },
  {
   "cell_type": "markdown",
   "metadata": {
    "id": "qDzu1DN5JYl-"
   },
   "source": [
    "## 3. Random Search\n",
    "grid search 코드와 매우매우 유사합니다"
   ]
  },
  {
   "cell_type": "code",
   "execution_count": 6,
   "metadata": {
    "ExecuteTime": {
     "end_time": "2021-09-24T20:42:41.866511Z",
     "start_time": "2021-09-24T20:42:41.835657Z"
    },
    "colab": {
     "base_uri": "https://localhost:8080/"
    },
    "id": "iEpwD9lsJYl_",
    "outputId": "52bfd6e6-c524-4942-84da-737d5f20cd96"
   },
   "outputs": [
    {
     "name": "stdout",
     "output_type": "stream",
     "text": [
      "test set score : 1.0\n",
      "best parameters: {'C': 1, 'max_iter': 100}\n",
      "best CV score: 0.9553359683794467\n",
      "time : 1.3643980026245117\n"
     ]
    }
   ],
   "source": [
    "from sklearn.model_selection import RandomizedSearchCV\n",
    "\n",
    "# 파라미터 후보 설정\n",
    "param_grid = {'C': [0.001, 0.01, 0.1, 1, 10, 100],\n",
    "              'max_iter' : [100, 500, 1000, 1500, 2000]}\n",
    "\n",
    "# 랜덤 서치 호출\n",
    "random_search = RandomizedSearchCV(LogisticRegression(), param_grid, cv=5, return_train_score=True)   \n",
    "\n",
    "# 데이터 분할\n",
    "X_train, X_test, y_train, y_test = train_test_split(X, y, random_state=23)\n",
    "\n",
    "start = time.time()\n",
    "# 모델 적합\n",
    "random_search.fit(X_train, y_train)\n",
    "\n",
    "# 모델 평가\n",
    "print(f\"test set score : {grid_search.score(X_test, y_test)}\")\n",
    "\n",
    "print(f\"best parameters: {grid_search.best_params_}\")\n",
    "print(f\"best CV score: {grid_search.best_score_}\")\n",
    "\n",
    "# 소요 시간 측정\n",
    "print(\"time :\", time.time() - start)"
   ]
  },
  {
   "cell_type": "markdown",
   "metadata": {
    "id": "Xdm1vVy2JYmN"
   },
   "source": [
    "## 4. HyperOpt"
   ]
  },
  {
   "cell_type": "code",
   "execution_count": 7,
   "metadata": {
    "ExecuteTime": {
     "end_time": "2021-09-24T17:08:35.707056Z",
     "start_time": "2021-09-24T17:08:29.489528Z"
    },
    "colab": {
     "base_uri": "https://localhost:8080/"
    },
    "id": "hVuDqEPkcmfh",
    "outputId": "2b099a49-48b4-4ed5-90b5-da795ad2f535"
   },
   "outputs": [
    {
     "name": "stdout",
     "output_type": "stream",
     "text": [
      "Collecting hyperopt\n",
      "  Downloading hyperopt-0.2.5-py2.py3-none-any.whl (965 kB)\n",
      "Requirement already satisfied: numpy in c:\\users\\user\\anaconda3\\lib\\site-packages (from hyperopt) (1.19.5)\n",
      "Requirement already satisfied: future in c:\\users\\user\\anaconda3\\lib\\site-packages (from hyperopt) (0.18.2)\n",
      "Requirement already satisfied: six in c:\\users\\user\\anaconda3\\lib\\site-packages (from hyperopt) (1.15.0)\n",
      "Requirement already satisfied: tqdm in c:\\users\\user\\anaconda3\\lib\\site-packages (from hyperopt) (4.59.0)\n",
      "Requirement already satisfied: networkx>=2.2 in c:\\users\\user\\anaconda3\\lib\\site-packages (from hyperopt) (2.5)\n",
      "Requirement already satisfied: cloudpickle in c:\\users\\user\\anaconda3\\lib\\site-packages (from hyperopt) (1.6.0)\n",
      "Requirement already satisfied: scipy in c:\\users\\user\\anaconda3\\lib\\site-packages (from hyperopt) (1.6.2)\n",
      "Requirement already satisfied: decorator>=4.3.0 in c:\\users\\user\\anaconda3\\lib\\site-packages (from networkx>=2.2->hyperopt) (5.0.6)\n",
      "Installing collected packages: hyperopt\n",
      "Successfully installed hyperopt-0.2.5\n"
     ]
    },
    {
     "name": "stderr",
     "output_type": "stream",
     "text": [
      "WARNING: You are using pip version 21.2.1; however, version 21.2.4 is available.\n",
      "You should consider upgrading via the 'c:\\users\\user\\anaconda3\\python.exe -m pip install --upgrade pip' command.\n"
     ]
    }
   ],
   "source": [
    "!pip install hyperopt"
   ]
  },
  {
   "cell_type": "code",
   "execution_count": 16,
   "metadata": {
    "colab": {
     "base_uri": "https://localhost:8080/",
     "height": 418
    },
    "id": "rtgKhnv4o5YS",
    "outputId": "2afaa5d3-ac41-43bb-dd1d-df2f43729b74"
   },
   "outputs": [
    {
     "name": "stdout",
     "output_type": "stream",
     "text": [
      "100%|███████████████████████████████████████████████| 20/20 [00:00<00:00, 26.66trial/s, best loss: -0.9553571428571429]\n"
     ]
    },
    {
     "data": {
      "text/plain": [
       "{'fit_intercept': 0, 'max_iter': 328.67439188549105, 'penalty': 3}"
      ]
     },
     "execution_count": 16,
     "metadata": {},
     "output_type": "execute_result"
    }
   ],
   "source": [
    "\n",
    "space = {\n",
    "    'penalty' : hp.choice('penalty', ['l1', 'l2', 'elasticnet', 'none']), \n",
    "    'fit_intercept' : hp.choice('fit_intercept', [True, False]),\n",
    "    'max_iter' : hp.uniform('max_iter', 100, 1000),\n",
    "}\n",
    "\n",
    "def objective(space):\n",
    "    model = LogisticRegression(penalty = space['penalty'],\n",
    "                               fit_intercept = space['fit_intercept'],\n",
    "                               max_iter = space['max_iter'],\n",
    "                              )\n",
    "    \n",
    "    accuracy = cross_val_score(model, X_train, y_train, cv = 4).mean() \n",
    "\n",
    "    return {'loss': -accuracy, 'status': STATUS_OK }\n",
    "    \n",
    "trials = Trials()\n",
    "best = fmin(fn= objective,\n",
    "            space= space,\n",
    "            algo= tpe.suggest,\n",
    "            max_evals = 20,\n",
    "            trials = trials)\n",
    "best"
   ]
  },
  {
   "cell_type": "code",
   "execution_count": null,
   "metadata": {},
   "outputs": [],
   "source": [
    "from sklearn.metrics import classification_report,confusion_matrix\n",
    "from sklearn.metrics import accuracy_score\n",
    "\n",
    "pen = {0: 'l1', 1: 'l2', 2: 'elasticnet', 3: None}\n",
    "incpt = {0: True, 1: False}\n",
    "\n",
    "trained = LogisticRegression(penalty = pen[best['penalty']],\n",
    "                             fit_intercept = incpt[best['fit_intercept']],\n",
    "                             max_iter = best['max_iter'],\n",
    "                            ).fit(X_train,y_train)\n",
    "\n",
    "# 정확도 도출 부분까지 코드 짜시면 됩니다!\n",
    "hyopt = trained.predict(X_test)\n",
    "print(confusion_matrix(y_test, hyopt))\n",
    "print(classification_report(y_test,hyopt))\n",
    "hyopt_acc = accuracy_score(y_test,htopt)"
   ]
  },
  {
   "cell_type": "markdown",
   "metadata": {
    "id": "OF_9iRGocmfx"
   },
   "source": [
    "## 선택) Bayesian Optimization 사용\n"
   ]
  },
  {
   "cell_type": "code",
   "execution_count": null,
   "metadata": {
    "id": "z5RH6FL4cmfy"
   },
   "outputs": [],
   "source": [
    "!pip install bayesian-optimization"
   ]
  },
  {
   "cell_type": "code",
   "execution_count": null,
   "metadata": {
    "id": "oRUFQPRUcmfz"
   },
   "outputs": [],
   "source": [
    "from bayes_opt import BayesianOptimization"
   ]
  }
 ],
 "metadata": {
  "colab": {
   "collapsed_sections": [],
   "name": "hyperparameter_tuning_과제_김유하.ipynb",
   "provenance": []
  },
  "kernelspec": {
   "display_name": "Python 3",
   "language": "python",
   "name": "python3"
  },
  "language_info": {
   "codemirror_mode": {
    "name": "ipython",
    "version": 3
   },
   "file_extension": ".py",
   "mimetype": "text/x-python",
   "name": "python",
   "nbconvert_exporter": "python",
   "pygments_lexer": "ipython3",
   "version": "3.8.8"
  },
  "toc": {
   "base_numbering": 1,
   "nav_menu": {},
   "number_sections": false,
   "sideBar": true,
   "skip_h1_title": false,
   "title_cell": "Table of Contents",
   "title_sidebar": "Contents",
   "toc_cell": false,
   "toc_position": {
    "height": "calc(100% - 180px)",
    "left": "10px",
    "top": "150px",
    "width": "165px"
   },
   "toc_section_display": true,
   "toc_window_display": true
  },
  "varInspector": {
   "cols": {
    "lenName": 16,
    "lenType": 16,
    "lenVar": 40
   },
   "kernels_config": {
    "python": {
     "delete_cmd_postfix": "",
     "delete_cmd_prefix": "del ",
     "library": "var_list.py",
     "varRefreshCmd": "print(var_dic_list())"
    },
    "r": {
     "delete_cmd_postfix": ") ",
     "delete_cmd_prefix": "rm(",
     "library": "var_list.r",
     "varRefreshCmd": "cat(var_dic_list()) "
    }
   },
   "types_to_exclude": [
    "module",
    "function",
    "builtin_function_or_method",
    "instance",
    "_Feature"
   ],
   "window_display": false
  }
 },
 "nbformat": 4,
 "nbformat_minor": 1
}
